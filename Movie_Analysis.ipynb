{
 "cells": [
  {
   "cell_type": "markdown",
   "metadata": {},
   "source": [
    "## Final Project Submission\n",
    "\n",
    "Please fill out:\n",
    "* Student name: Andrew Levinton\n",
    "* Student pace: part time \n",
    "* Scheduled project review date/time: 12/05/2022\n",
    "* Instructor name: Joe Comeaux\n",
    "* Blog post URL: https://github.com/andrewkoji/Phase-1-Project---Movie-Analysis.git\n"
   ]
  },
  {
   "cell_type": "markdown",
   "metadata": {},
   "source": [
    "## Phase 1 Project"
   ]
  },
  {
   "cell_type": "markdown",
   "metadata": {},
   "source": [
    "## Business Problem"
   ]
  },
  {
   "cell_type": "markdown",
   "metadata": {},
   "source": [
    "This project aims at finding the best movies to produce for Microsoft."
   ]
  },
  {
   "cell_type": "markdown",
   "metadata": {},
   "source": [
    "## Overview"
   ]
  },
  {
   "cell_type": "markdown",
   "metadata": {},
   "source": [
    "In this analysis, the following will be analyzed and used as measurements of success:\n",
    "- Gross Profit\n",
    "- Gross Revenue\n",
    "- Net Profit\n",
    "- Overalll rating\n",
    "- Overall reviews\n",
    "\n",
    "To observe these measurements and make conclusions, an exploratory data analysis will be done on the datasets imported below. The analysis will help to provide key insight on the most essential aspects that make a successful movie. "
   ]
  },
  {
   "cell_type": "markdown",
   "metadata": {},
   "source": [
    "## Importing libraries"
   ]
  },
  {
   "cell_type": "code",
   "execution_count": 1,
   "metadata": {
    "scrolled": false
   },
   "outputs": [],
   "source": [
    "import pandas as pd\n",
    "import matplotlib.pyplot as plt\n",
    "import numpy as np\n",
    "import seaborn as sns\n",
    "%matplotlib inline"
   ]
  },
  {
   "cell_type": "code",
   "execution_count": 2,
   "metadata": {
    "scrolled": false
   },
   "outputs": [
    {
     "name": "stdout",
     "output_type": "stream",
     "text": [
      "C:\\Users\\alevi\\Documents\\Flatiron\\dsc-data-science-env-config\\Course_Folder\\Phase_1\\Phase_1_Project\\Phase-1-Project---Movie-Analysis\\zippedData\n"
     ]
    }
   ],
   "source": [
    "cd zippedData"
   ]
  },
  {
   "cell_type": "code",
   "execution_count": 3,
   "metadata": {
    "scrolled": false
   },
   "outputs": [
    {
     "name": "stdout",
     "output_type": "stream",
     "text": [
      " Volume in drive C is Windows\n",
      " Volume Serial Number is A24A-7E70\n",
      "\n",
      " Directory of C:\\Users\\alevi\\Documents\\Flatiron\\dsc-data-science-env-config\\Course_Folder\\Phase_1\\Phase_1_Project\\Phase-1-Project---Movie-Analysis\\zippedData\n",
      "\n",
      "11/28/2022  04:42 PM    <DIR>          .\n",
      "12/10/2022  06:58 PM    <DIR>          ..\n",
      "11/22/2022  11:31 PM    <DIR>          .ipynb_checkpoints\n",
      "11/28/2022  07:26 PM            34,071 Bar Chart Rev vs Rating.jpeg\n",
      "12/08/2022  08:12 PM            50,536 Bar_chart_month_profit.jpeg\n",
      "11/22/2022  11:28 PM            53,544 bom.movie_gross.csv.gz\n",
      "11/28/2022  04:42 PM                 0 im.db\n",
      "12/08/2022  08:12 PM            68,160 production_budget_vs_net_profit.jpeg\n",
      "11/23/2022  03:57 PM            68,866 Profit_by_Genre.jpeg\n",
      "12/08/2022  08:12 PM            80,086 Revenue by Genre.jpeg\n",
      "12/08/2022  08:12 PM            56,156 Revenue by Month.jpeg\n",
      "11/22/2022  11:28 PM           498,202 rt.movie_info.tsv.gz\n",
      "11/22/2022  11:28 PM         3,402,194 rt.reviews.tsv.gz\n",
      "11/22/2022  11:28 PM           827,840 tmdb.movies.csv.gz\n",
      "11/22/2022  11:28 PM           153,218 tn.movie_budgets.csv.gz\n",
      "              12 File(s)      5,292,873 bytes\n",
      "               3 Dir(s)  63,866,712,064 bytes free\n"
     ]
    }
   ],
   "source": [
    "ls"
   ]
  },
  {
   "cell_type": "markdown",
   "metadata": {},
   "source": [
    "## The Data"
   ]
  },
  {
   "cell_type": "code",
   "execution_count": 4,
   "metadata": {
    "scrolled": true
   },
   "outputs": [],
   "source": [
    "#The Movie DataBase\n",
    "tmdb = pd.read_csv('tmdb.movies.csv.gz')\n",
    "\n",
    "#Box Office Movies\n",
    "bom = pd.read_csv('bom.movie_gross.csv.gz')\n",
    "\n",
    "#Rotten Tomatoes Reviews\n",
    "rt_reviews = pd.read_csv('rt.reviews.tsv.gz', sep='\\t', encoding='unicode_escape')\n",
    "\n",
    "#Rotten Tomatoes Movie Info\n",
    "rt_info = pd.read_csv('rt.movie_info.tsv.gz', sep='\\t')\n",
    "\n",
    "#The Numbers Movie Budgets\n",
    "budgets = pd.read_csv('tn.movie_budgets.csv.gz')"
   ]
  },
  {
   "cell_type": "code",
   "execution_count": 5,
   "metadata": {
    "scrolled": false
   },
   "outputs": [
    {
     "name": "stdout",
     "output_type": "stream",
     "text": [
      "Length of The Movie Database: 26517\n",
      "Length of Box Office Movies: 3387\n",
      "Length of Rotten Tomatoes Reviews: 54432\n",
      "Length of Rotten Tomatoes Movie Info: 1560\n",
      "Length of The Numbers Movie Budgets: 5782\n"
     ]
    }
   ],
   "source": [
    "print(('Length of The Movie Database: {}'.format(len(tmdb))))\n",
    "print('Length of Box Office Movies: {}'.format(len(bom)))\n",
    "print('Length of Rotten Tomatoes Reviews: {}'.format(len(rt_reviews)))\n",
    "print('Length of Rotten Tomatoes Movie Info: {}'.format(len(rt_info)))\n",
    "print('Length of The Numbers Movie Budgets: {}'.format(len(budgets)))\n"
   ]
  },
  {
   "cell_type": "markdown",
   "metadata": {},
   "source": [
    "The libraries above are the datasets that will be cleaned and analyzed for the analysis. "
   ]
  },
  {
   "cell_type": "markdown",
   "metadata": {},
   "source": [
    "## Getting Rating Data From Rotten Tomatoes"
   ]
  },
  {
   "cell_type": "markdown",
   "metadata": {},
   "source": [
    "# Cleaning the Review Data"
   ]
  },
  {
   "cell_type": "markdown",
   "metadata": {},
   "source": [
    "## Merging Tomato Data"
   ]
  },
  {
   "cell_type": "code",
   "execution_count": 6,
   "metadata": {
    "scrolled": false
   },
   "outputs": [],
   "source": [
    "rt = pd.merge(rt_reviews,rt_info,on='id')\n"
   ]
  },
  {
   "cell_type": "code",
   "execution_count": 7,
   "metadata": {
    "scrolled": false
   },
   "outputs": [
    {
     "name": "stdout",
     "output_type": "stream",
     "text": [
      "54432\n",
      "1560\n",
      "54432\n"
     ]
    }
   ],
   "source": [
    "print(len(rt_reviews))\n",
    "print(len(rt_info))\n",
    "print(len(rt))"
   ]
  },
  {
   "cell_type": "markdown",
   "metadata": {},
   "source": [
    "## Getting Genre Data"
   ]
  },
  {
   "cell_type": "code",
   "execution_count": 8,
   "metadata": {},
   "outputs": [
    {
     "data": {
      "text/plain": [
       "id                  0\n",
       "review           5563\n",
       "rating_x        13517\n",
       "fresh               0\n",
       "critic           2722\n",
       "top_critic          0\n",
       "publisher         309\n",
       "date                0\n",
       "synopsis          132\n",
       "rating_y           86\n",
       "genre              87\n",
       "director         5440\n",
       "writer           9226\n",
       "theater_date     1226\n",
       "dvd_date         1226\n",
       "currency        21122\n",
       "box_office      21122\n",
       "runtime           838\n",
       "studio          14307\n",
       "dtype: int64"
      ]
     },
     "execution_count": 8,
     "metadata": {},
     "output_type": "execute_result"
    }
   ],
   "source": [
    "#check nulls, length\n",
    "rt.isnull().sum()"
   ]
  },
  {
   "cell_type": "code",
   "execution_count": 9,
   "metadata": {
    "scrolled": false
   },
   "outputs": [],
   "source": [
    "# Dropping nulls from ratings and Genre\n",
    "rt = rt[rt['rating_x'].notnull()]\n",
    "rt = rt[rt['box_office'].notnull()]\n",
    "#Changing box office revenue so it can be read numerically\n",
    "rt['box_office'] = rt['box_office'].str.replace(',','').apply(lambda x: int(x))\n",
    "#split the genre(eg. Action|Drama become -> [Action, Drama])\n",
    "rt['genre'] = rt['genre'].str.split('|')"
   ]
  },
  {
   "cell_type": "markdown",
   "metadata": {},
   "source": [
    "## Checking length after nulls are dropped"
   ]
  },
  {
   "cell_type": "code",
   "execution_count": 10,
   "metadata": {},
   "outputs": [
    {
     "data": {
      "text/plain": [
       "25538"
      ]
     },
     "execution_count": 10,
     "metadata": {},
     "output_type": "execute_result"
    }
   ],
   "source": [
    "len(rt)"
   ]
  },
  {
   "cell_type": "code",
   "execution_count": 11,
   "metadata": {
    "scrolled": false
   },
   "outputs": [],
   "source": [
    "#explode genre column so each value within the list has its own row. this will make it easier to use groupby for an analysis\n",
    "genre = rt.explode('genre')\n",
    "#rename columns\n",
    "genre = genre.rename(columns={'box_office':'box_office_revenue'})\n",
    "genre = genre.rename(columns={'rating_x':'rating'})"
   ]
  },
  {
   "cell_type": "code",
   "execution_count": 12,
   "metadata": {
    "scrolled": true
   },
   "outputs": [
    {
     "data": {
      "text/plain": [
       "54672"
      ]
     },
     "execution_count": 12,
     "metadata": {},
     "output_type": "execute_result"
    }
   ],
   "source": [
    "len(genre)"
   ]
  },
  {
   "cell_type": "markdown",
   "metadata": {},
   "source": [
    "## Over what time period does this data exist?"
   ]
  },
  {
   "cell_type": "code",
   "execution_count": 13,
   "metadata": {
    "scrolled": false
   },
   "outputs": [],
   "source": [
    "genre['year'] = genre['theater_date'].astype(str).apply(lambda x: x[-4:]).astype(float)"
   ]
  },
  {
   "cell_type": "code",
   "execution_count": 14,
   "metadata": {
    "scrolled": false
   },
   "outputs": [
    {
     "data": {
      "text/plain": [
       "'The data exists from the year 1958 to 2018'"
      ]
     },
     "execution_count": 14,
     "metadata": {},
     "output_type": "execute_result"
    }
   ],
   "source": [
    "'The data exists from the year {} to {}'.format(int(min(genre['year'])), int(max(genre['year'])))"
   ]
  },
  {
   "cell_type": "markdown",
   "metadata": {},
   "source": [
    "## Box Office Revenue by Genre"
   ]
  },
  {
   "cell_type": "code",
   "execution_count": 15,
   "metadata": {
    "scrolled": false
   },
   "outputs": [
    {
     "data": {
      "image/png": "[encoded data removed]",
      "text/plain": [
       "<Figure size 864x576 with 1 Axes>"
      ]
     },
     "metadata": {
      "needs_background": "light"
     },
     "output_type": "display_data"
    }
   ],
   "source": [
    "#format x-values\n",
    "pd.set_option('display.float_format', lambda x: '%.3f' % x)\n",
    "#define fonts that can be used for all the graphs\n",
    "csfont = {'fontname':'Comic Sans MS'}\n",
    "hfont = {'fontname':'Helvetica'}\n",
    "\n",
    "\n",
    "#group by genre\n",
    "genre_revenue = genre.groupby('genre')['box_office_revenue'].mean().reset_index()\n",
    "#convert to millions \n",
    "genre_revenue['box_office_revenue(in millions)'] = genre_revenue['box_office_revenue'] / 1000000\n",
    "\n",
    "genre_revenue = genre_revenue.sort_values('box_office_revenue(in millions)')\n",
    "#create bar graph of box office revenue by genre\n",
    "genre_revenue.plot(x='genre',y='box_office_revenue(in millions)',kind='barh',figsize=(12,8))\n",
    "plt.title('Box Office Revenue by Genre', size=20, **csfont)\n",
    "plt.xlabel('Average Box Office Revenue(in millions)',size=20, **csfont)\n",
    "plt.ylabel('Genre',size=20,**csfont)\n",
    "# plt.show()\n",
    "plt.savefig(\"Revenue by Genre.jpeg\",bbox_inches='tight') #save as jpg"
   ]
  },
  {
   "cell_type": "markdown",
   "metadata": {},
   "source": [
    "In the graph above, it is shown that Science Fiction and Fantasy along with Action and Adventure appear to yield the highest average box office revenue, with Animation, Mystery/Suspense and Romance being the next top 3 performers. As animation improves\n",
    "with innovative technology, it is clear that the more popular movies does lead to a higher turnout at the box office as they are the genres that apply the most to the masses. "
   ]
  },
  {
   "cell_type": "markdown",
   "metadata": {},
   "source": [
    "## Which Movie Rating Attracts the Most Revenue?"
   ]
  },
  {
   "cell_type": "code",
   "execution_count": 16,
   "metadata": {
    "scrolled": false
   },
   "outputs": [
    {
     "data": {
      "image/png": "[encoded data removed]",
      "text/plain": [
       "<Figure size 720x576 with 1 Axes>"
      ]
     },
     "metadata": {
      "needs_background": "light"
     },
     "output_type": "display_data"
    }
   ],
   "source": [
    "#getting average revenue by rating\n",
    "rating_movie = rt.groupby('rating_y')['box_office'].mean().reset_index()\n",
    "\n",
    "#converting to millions\n",
    "rating_movie['box_office_rev'] = rating_movie['box_office'] / 1000000\n",
    "\n",
    "rating_movie = rating_movie.sort_values('box_office_rev', ascending=False)\n",
    "#bar graph of movie rating vs the box office revenue\n",
    "rating_movie.plot(x='rating_y',y='box_office_rev',kind='bar',figsize=(10,8))\n",
    "plt.ylabel('Average Box Office Revenue (millions)',size=15)\n",
    "plt.xlabel('Rating of Movie',size=15)\n",
    "plt.xticks(rotation=0)\n",
    "plt.title('Average Box Office Revenue by Movie Rating',size=15)\n",
    "# plt.savefig('Bar Chart Rev vs Rating.jpeg')\n",
    "plt.show()"
   ]
  },
  {
   "cell_type": "markdown",
   "metadata": {},
   "source": [
    "## What are the top 10 directors in terms of box office revenue?"
   ]
  },
  {
   "cell_type": "code",
   "execution_count": 17,
   "metadata": {
    "scrolled": false
   },
   "outputs": [],
   "source": [
    "#using same method for genres to develop average revenue by director\n",
    "directors = rt[['director','box_office']].drop_duplicates()\n",
    "\n",
    "directors['director'] = directors['director'].str.split('|')\n",
    "directors = directors.explode('director')"
   ]
  },
  {
   "cell_type": "code",
   "execution_count": 18,
   "metadata": {
    "scrolled": false
   },
   "outputs": [
    {
     "data": {
      "text/html": [
       "<div>\n",
       "<style scoped>\n",
       "    .dataframe tbody tr th:only-of-type {\n",
       "        vertical-align: middle;\n",
       "    }\n",
       "\n",
       "    .dataframe tbody tr th {\n",
       "        vertical-align: top;\n",
       "    }\n",
       "\n",
       "    .dataframe thead th {\n",
       "        text-align: right;\n",
       "    }\n",
       "</style>\n",
       "<table border=\"1\" class=\"dataframe\">\n",
       "  <thead>\n",
       "    <tr style=\"text-align: right;\">\n",
       "      <th></th>\n",
       "      <th>director</th>\n",
       "      <th>box_office</th>\n",
       "    </tr>\n",
       "  </thead>\n",
       "  <tbody>\n",
       "    <tr>\n",
       "      <th>26581</th>\n",
       "      <td>Mel Gibson</td>\n",
       "      <td>368000000</td>\n",
       "    </tr>\n",
       "    <tr>\n",
       "      <th>28440</th>\n",
       "      <td>Peter Jackson</td>\n",
       "      <td>303001229</td>\n",
       "    </tr>\n",
       "    <tr>\n",
       "      <th>39981</th>\n",
       "      <td>Sam Mendes</td>\n",
       "      <td>299300000</td>\n",
       "    </tr>\n",
       "    <tr>\n",
       "      <th>21985</th>\n",
       "      <td>Jay Roach</td>\n",
       "      <td>279167575</td>\n",
       "    </tr>\n",
       "    <tr>\n",
       "      <th>36952</th>\n",
       "      <td>Chris Columbus</td>\n",
       "      <td>261835892</td>\n",
       "    </tr>\n",
       "    <tr>\n",
       "      <th>16183</th>\n",
       "      <td>Joel Zwick</td>\n",
       "      <td>241250669</td>\n",
       "    </tr>\n",
       "    <tr>\n",
       "      <th>20799</th>\n",
       "      <td>Steven Spielberg</td>\n",
       "      <td>234141872</td>\n",
       "    </tr>\n",
       "    <tr>\n",
       "      <th>50317</th>\n",
       "      <td>Peter Berg</td>\n",
       "      <td>227946274</td>\n",
       "    </tr>\n",
       "    <tr>\n",
       "      <th>45878</th>\n",
       "      <td>Justin Lin</td>\n",
       "      <td>209805005</td>\n",
       "    </tr>\n",
       "    <tr>\n",
       "      <th>41852</th>\n",
       "      <td>Andy Tennant</td>\n",
       "      <td>177575142</td>\n",
       "    </tr>\n",
       "  </tbody>\n",
       "</table>\n",
       "</div>"
      ],
      "text/plain": [
       "               director  box_office\n",
       "26581        Mel Gibson   368000000\n",
       "28440     Peter Jackson   303001229\n",
       "39981        Sam Mendes   299300000\n",
       "21985         Jay Roach   279167575\n",
       "36952    Chris Columbus   261835892\n",
       "16183        Joel Zwick   241250669\n",
       "20799  Steven Spielberg   234141872\n",
       "50317        Peter Berg   227946274\n",
       "45878        Justin Lin   209805005\n",
       "41852      Andy Tennant   177575142"
      ]
     },
     "execution_count": 18,
     "metadata": {},
     "output_type": "execute_result"
    }
   ],
   "source": [
    "#top 10 directors by box office revenue\n",
    "directors.sort_values('box_office', ascending=False).head(10)"
   ]
  },
  {
   "cell_type": "markdown",
   "metadata": {},
   "source": [
    "## Average Rating by Genre"
   ]
  },
  {
   "cell_type": "code",
   "execution_count": 19,
   "metadata": {
    "scrolled": false
   },
   "outputs": [],
   "source": [
    "#import review data\n",
    "rt_reviews = pd.read_csv('rt.reviews.tsv.gz', sep='\\t',encoding=('ISO-8859-1'),low_memory =False)\n",
    "\n",
    "#filter by top critics\n",
    "rt_reviews = rt_reviews[rt_reviews['top_critic'] == 1]\n",
    "\n",
    "#change all \"Letter Grade\" ratings to a %\n",
    "rt_reviews['rating'] = rt_reviews['rating'].astype(str)\n",
    "rt_reviews['rating'] = rt_reviews['rating'].apply(lambda x:\\\n",
    "                                                  '100' if 'A+' in x\\\n",
    "                                                  else '98' if 'A' in x\\\n",
    "                                                  else '95' if 'A-' in x\\\n",
    "                                                  else '88' if 'B+' in x\\\n",
    "                                                  else '85' if 'B' in x\\\n",
    "                                                  else '80' if 'B-' in x\\\n",
    "                                                  else '78' if 'C+' in x\\\n",
    "                                                  else '75' if 'C' in x\\\n",
    "                                                  else '70' if 'C-' in x\\\n",
    "                                                  else '68' if 'D+' in x\\\n",
    "                                                  else '65' if 'D' in x\\\n",
    "                                                  else '60' if 'D-' in x\\\n",
    "                                                  else '50' if 'F' in x\\\n",
    "                                                  else '45' if 'N' in x\\\n",
    "                                                  else '40' if 'R' in x else x)\n",
    "#change all \"fractional\" reviews to %\n",
    "rt_reviews['rating'] = rt_reviews['rating'].str.split('/').apply(lambda x: (float(x[0]) / float(x[1])) * 100\\\n",
    "                                                  if (len(x) > 1 and float(x[1]) != 0)\\\n",
    "                                                  else float(x[0]))\n",
    "#some reviews were over 100% because te reviews had improper fractions(eg. 2.1/2). They were converted to 100\n",
    "rt_reviews['rating'] = rt_reviews['rating'].apply(lambda x: 100 if x > 100 else x)\n",
    "rt_reviews = rt_reviews.sort_values('rating', ascending=False)\n"
   ]
  },
  {
   "cell_type": "code",
   "execution_count": 20,
   "metadata": {
    "scrolled": false
   },
   "outputs": [],
   "source": [
    "merged = pd.merge(rt_reviews,rt_info,on='id')\n"
   ]
  },
  {
   "cell_type": "code",
   "execution_count": 21,
   "metadata": {
    "scrolled": false
   },
   "outputs": [],
   "source": [
    "# Dropping nulls from ratings and Genre\n",
    "merged = merged[merged['rating_x'].notnull()]\n",
    "merged = merged[merged['box_office'].notnull()]\n",
    "#Changing box office revenue so it can be read numerically\n",
    "merged['box_office'] = merged['box_office'].str.replace(',','').apply(lambda x: int(x))\n",
    "#split the genre(eg. Action|Drama become -> [Action, Drama])\n",
    "merged['genre'] = merged['genre'].str.split('|')"
   ]
  },
  {
   "cell_type": "code",
   "execution_count": 22,
   "metadata": {
    "scrolled": false
   },
   "outputs": [],
   "source": [
    "#explode genre column so each value within the list has its own row. this will make it easier to use groupby for an analysis\n",
    "genre = merged.explode('genre')\n",
    "#rename columns\n",
    "genre = genre.rename(columns={'box_office':'box_office_revenue'})\n",
    "genre = genre.rename(columns={'rating_x':'rating'})"
   ]
  },
  {
   "cell_type": "code",
   "execution_count": 23,
   "metadata": {
    "scrolled": true
   },
   "outputs": [
    {
     "data": {
      "image/png": "[encoded data removed]",
      "text/plain": [
       "<Figure size 432x288 with 1 Axes>"
      ]
     },
     "metadata": {
      "needs_background": "light"
     },
     "output_type": "display_data"
    }
   ],
   "source": [
    "genre_rating = genre.groupby('genre')['rating'].mean().reset_index()\n",
    "ax = genre_rating.plot(x='genre',y='rating',kind='barh')\n",
    "plt.show()"
   ]
  },
  {
   "cell_type": "markdown",
   "metadata": {},
   "source": [
    "As shown above, there is no conclusive genre that yields a significantly higher rating. My advice on this front would be to simply not consider reviews when picking a genre. "
   ]
  },
  {
   "cell_type": "markdown",
   "metadata": {},
   "source": [
    "## Box Office Revenue by month"
   ]
  },
  {
   "cell_type": "code",
   "execution_count": 24,
   "metadata": {
    "scrolled": false
   },
   "outputs": [],
   "source": [
    "#stripping month number from dates\n",
    "rt['release_month'] = rt['theater_date'].astype(str).apply(lambda x: x[0:3])"
   ]
  },
  {
   "cell_type": "code",
   "execution_count": 25,
   "metadata": {
    "scrolled": false
   },
   "outputs": [],
   "source": [
    "#group by month\n",
    "monthly = rt.groupby('release_month')['box_office'].mean().reset_index()"
   ]
  },
  {
   "cell_type": "code",
   "execution_count": 26,
   "metadata": {
    "scrolled": false
   },
   "outputs": [],
   "source": [
    "monthly = monthly[0:12]"
   ]
  },
  {
   "cell_type": "code",
   "execution_count": 27,
   "metadata": {
    "scrolled": false
   },
   "outputs": [],
   "source": [
    "#function to format month name\n",
    "monthly['release_month'] = monthly['release_month'].apply(lambda x: 'January' if x=='Jan'\\\n",
    "                                                         else 'February' if x=='Feb'\\\n",
    "                                                         else 'March' if x=='Mar'\\\n",
    "                                                         else 'April' if x=='Apr'\\\n",
    "                                                         else 'May' if x=='May'\\\n",
    "                                                         else 'June' if x=='Jun'\\\n",
    "                                                         else 'July' if x=='Jul'\\\n",
    "                                                         else 'August' if x=='Aug'\\\n",
    "                                                         else 'September' if x=='Sep'\\\n",
    "                                                         else 'October' if x=='Oct'\\\n",
    "                                                         else 'November' if x=='Nov'\\\n",
    "                                                         else 'December' if x=='Dec'\\\n",
    "                                                         else x)"
   ]
  },
  {
   "cell_type": "code",
   "execution_count": 28,
   "metadata": {
    "scrolled": false
   },
   "outputs": [],
   "source": [
    "#assigning number to each month to order them\n",
    "monthly['month_no'] = monthly['release_month'].apply(lambda x: 1 if x=='January'\\\n",
    "                                                         else 2 if x=='February'\\\n",
    "                                                         else 3 if x=='March'\\\n",
    "                                                         else 4 if x=='April'\\\n",
    "                                                         else 5 if x=='May'\\\n",
    "                                                         else 6 if x=='June'\\\n",
    "                                                         else 7 if x=='July'\\\n",
    "                                                         else 8 if x=='August'\\\n",
    "                                                         else 9 if x=='September'\\\n",
    "                                                         else 10 if x=='October'\\\n",
    "                                                         else 11 if x=='November'\\\n",
    "                                                         else 12 if x=='December'\\\n",
    "                                                         else x)"
   ]
  },
  {
   "cell_type": "code",
   "execution_count": 29,
   "metadata": {
    "scrolled": false
   },
   "outputs": [
    {
     "name": "stdout",
     "output_type": "stream",
     "text": [
      "The chart shows more significant revenue during the months of November and December, as well as June and also February. What is surprising is the revenue during May, which is expected to be higher due to \"Star Wars Day\" on May 4th.\n"
     ]
    },
    {
     "data": {
      "image/png": "[encoded data removed]",
      "text/plain": [
       "<Figure size 720x432 with 1 Axes>"
      ]
     },
     "metadata": {
      "needs_background": "light"
     },
     "output_type": "display_data"
    }
   ],
   "source": [
    "#sort dataframe by month\n",
    "monthly = monthly.sort_values('month_no')\n",
    "#convert to millions\n",
    "monthly['box_office_revenue(in millions)'] = monthly['box_office'] / 1000000\n",
    "\n",
    "\n",
    "#create graph of box office revenue by month\n",
    "monthly.plot(x='release_month',y='box_office_revenue(in millions)',kind='bar',color='magenta',figsize=(10,6))\n",
    "\n",
    "plt.title('Box Office Revenue by Time of Year', size=20, **csfont)\n",
    "plt.ylabel('Box Office Revenue(in millions)',size=20, **csfont)\n",
    "plt.xlabel('Month of Release',size=20,**csfont)\n",
    "plt.xticks(rotation = 45)\n",
    "# plt.show()\n",
    "plt.savefig(\"Revenue by Month.jpeg\",bbox_inches='tight') #save as jpg\n",
    "\n",
    "\n",
    "print('The chart shows more significant revenue during the months of November and December, as well as June and also February. What is surprising is the revenue during May, which is expected to be higher due to \"Star Wars Day\" on May 4th.')"
   ]
  },
  {
   "cell_type": "markdown",
   "metadata": {},
   "source": [
    "The chart shows more significant revenue during the months of November and December, as well as June and also February. What is surprising is the revenue during May, which is expected to be higher due to \"Star Wars Day\" on May 4th. "
   ]
  },
  {
   "cell_type": "markdown",
   "metadata": {},
   "source": [
    "## Using Budgets Dataframe to check profit"
   ]
  },
  {
   "cell_type": "markdown",
   "metadata": {},
   "source": [
    "## Over what time period does the data exist?"
   ]
  },
  {
   "cell_type": "code",
   "execution_count": 30,
   "metadata": {
    "scrolled": false
   },
   "outputs": [],
   "source": [
    "budgets['year'] = budgets['release_date'].astype(str).apply(lambda x: x[-4:]).astype(int)"
   ]
  },
  {
   "cell_type": "code",
   "execution_count": 31,
   "metadata": {
    "scrolled": false
   },
   "outputs": [
    {
     "data": {
      "text/plain": [
       "'The data exists from the year 1915 to 2020'"
      ]
     },
     "execution_count": 31,
     "metadata": {},
     "output_type": "execute_result"
    }
   ],
   "source": [
    "'The data exists from the year {} to {}'.format(int(min(budgets['year'])), int(max(budgets['year'])))"
   ]
  },
  {
   "cell_type": "code",
   "execution_count": 32,
   "metadata": {
    "scrolled": false
   },
   "outputs": [],
   "source": [
    "budgets = pd.read_csv('tn.movie_budgets.csv.gz')\n",
    "\n",
    "#formatting 'gross' strings and the production budget so they can be converted to numeric values\n",
    "budgets['domestic_gross'] = budgets['domestic_gross'].str.replace(\"$\",\"\").str.replace(\",\",\"\").astype(float)\n",
    "budgets['worldwide_gross'] = budgets['worldwide_gross'].str.replace(\"$\",\"\").str.replace(\",\",\"\").astype(float)\n",
    "budgets['production_budget'] = budgets['production_budget'].str.replace(\"$\",\"\").str.replace(\",\",\"\").astype(float)\n",
    "\n",
    "#calculating the total gross\n",
    "budgets['total_gross'] = budgets['domestic_gross'] + budgets['worldwide_gross']\n",
    "\n",
    "#converting to billions\n",
    "budgets['profit(in millions)'] = (budgets['total_gross'] - budgets['production_budget']) / 1000000\n",
    "\n",
    "#slicing month number\n",
    "budgets['month'] = budgets['release_date'].apply(lambda x: x[0:3])\n",
    "#slicing year number\n",
    "budgets['year'] = budgets['release_date'].apply(lambda x: x[-4:])\n",
    "\n",
    "\n",
    "#formatting month names\n",
    "budgets['month'] = budgets['month'].apply(lambda x: 'January' if x=='Jan'\\\n",
    "                                                         else 'February' if x=='Feb'\\\n",
    "                                                         else 'March' if x=='Mar'\\\n",
    "                                                         else 'April' if x=='Apr'\\\n",
    "                                                         else 'May' if x=='May'\\\n",
    "                                                         else 'June' if x=='Jun'\\\n",
    "                                                         else 'July' if x=='Jul'\\\n",
    "                                                         else 'August' if x=='Aug'\\\n",
    "                                                         else 'September' if x=='Sep'\\\n",
    "                                                         else 'October' if x=='Oct'\\\n",
    "                                                         else 'November' if x=='Nov'\\\n",
    "                                                         else 'December' if x=='Dec'\\\n",
    "                                                         else x)\n",
    "\n",
    "#quick reformat to make nicer names to plot\n",
    "budgets['budget'] = budgets['production_budget'] / 1000000\n",
    "budgets['profit'] = budgets['profit(in millions)']\n",
    "budgets['total_gross(in millions)'] = budgets['total_gross']  / 1000000\n",
    "budgets['% of budget'] = (budgets['profit'] / budgets['budget'])*100"
   ]
  },
  {
   "cell_type": "code",
   "execution_count": 33,
   "metadata": {
    "scrolled": false
   },
   "outputs": [],
   "source": [
    "#grouping dataframe by month and average profit per month\n",
    "monthly = budgets.groupby('month')['profit(in millions)'].mean().reset_index()\n",
    "\n",
    "#assigning month number to sort the months\n",
    "monthly['month_no'] = monthly['month'].apply(lambda x: 1 if x=='January'\\\n",
    "                                                         else 2 if x=='February'\\\n",
    "                                                         else 3 if x=='March'\\\n",
    "                                                         else 4 if x=='April'\\\n",
    "                                                         else 5 if x=='May'\\\n",
    "                                                         else 6 if x=='June'\\\n",
    "                                                         else 7 if x=='July'\\\n",
    "                                                         else 8 if x=='August'\\\n",
    "                                                         else 9 if x=='September'\\\n",
    "                                                         else 10 if x=='October'\\\n",
    "                                                         else 11 if x=='November'\\\n",
    "                                                         else 12 if x=='December'\\\n",
    "                                                         else x)\n",
    "\n",
    "#sort by month number\n",
    "monthly = monthly.sort_values('month_no')"
   ]
  },
  {
   "cell_type": "code",
   "execution_count": 34,
   "metadata": {
    "scrolled": false
   },
   "outputs": [
    {
     "data": {
      "image/png": "[encoded data removed]",
      "text/plain": [
       "<Figure size 720x432 with 1 Axes>"
      ]
     },
     "metadata": {
      "needs_background": "light"
     },
     "output_type": "display_data"
    }
   ],
   "source": [
    "#create bar chart for average profit by month\n",
    "monthly.plot(x='month',y='profit(in millions)', kind='bar',figsize=(10,6))\n",
    "plt.title('Month vs Average Net Profit', size=20, **csfont)\n",
    "plt.ylabel('Average Net Profit(millions)',size=20, **csfont)\n",
    "plt.xlabel('Month',size=20,**csfont)\n",
    "plt.xticks(rotation = 45)\n",
    "plt.savefig(\"Bar_chart_month_profit.jpeg\",bbox_inches='tight') #save as jpg"
   ]
  },
  {
   "cell_type": "code",
   "execution_count": 35,
   "metadata": {
    "scrolled": false
   },
   "outputs": [
    {
     "name": "stdout",
     "output_type": "stream",
     "text": [
      "As shown in the chart below, the average return on the movies budget by month tells a different story compared to the       average profit. This metric is a normalized way to look at success of the movie. The return on budget is shown to be fairly consistent by month other than the month of June, which is a summer month(historically a good season for movies).\n"
     ]
    },
    {
     "data": {
      "image/png": "[encoded data removed]",
      "text/plain": [
       "<Figure size 720x432 with 1 Axes>"
      ]
     },
     "metadata": {
      "needs_background": "light"
     },
     "output_type": "display_data"
    }
   ],
   "source": [
    "#create bar chart for average profit by month\n",
    "#assigning month number to sort the months\n",
    "monthly_per = budgets.groupby('month')['% of budget'].mean().reset_index()\n",
    "\n",
    "monthly_per['month_no'] = monthly_per['month'].apply(lambda x: 1 if x=='January'\\\n",
    "                                                         else 2 if x=='February'\\\n",
    "                                                         else 3 if x=='March'\\\n",
    "                                                         else 4 if x=='April'\\\n",
    "                                                         else 5 if x=='May'\\\n",
    "                                                         else 6 if x=='June'\\\n",
    "                                                         else 7 if x=='July'\\\n",
    "                                                         else 8 if x=='August'\\\n",
    "                                                         else 9 if x=='September'\\\n",
    "                                                         else 10 if x=='October'\\\n",
    "                                                         else 11 if x=='November'\\\n",
    "                                                         else 12 if x=='December'\\\n",
    "                                                         else x)\n",
    "monthly_per = monthly_per.sort_values('month_no')\n",
    "\n",
    "monthly_per.plot(x='month',y='% of budget', kind='bar',figsize=(10,6))\n",
    "plt.title('Average Return on Investment', size=20, **csfont)\n",
    "plt.ylabel('% of Budget',size=20, **csfont)\n",
    "plt.xlabel('Month of Release',size=20,**csfont)\n",
    "plt.xticks(rotation=45)\n",
    "plt.savefig(\"Bar_chart_month_profit.jpeg\",bbox_inches='tight') #save as jpg\n",
    "\n",
    "print('As shown in the chart below, the average return on the movies budget by month tells a different story compared to the       average profit. This metric is a normalized way to look at success of the movie. The return on budget is shown to be fairly consistent by month other than the month of June, which is a summer month(historically a good season for movies).')"
   ]
  },
  {
   "cell_type": "markdown",
   "metadata": {},
   "source": [
    "## If you have a larger budget, will that lead to a higher profit?"
   ]
  },
  {
   "cell_type": "code",
   "execution_count": 36,
   "metadata": {
    "scrolled": false
   },
   "outputs": [
    {
     "data": {
      "image/png": "[encoded data removed]",
      "text/plain": [
       "<Figure size 720x576 with 1 Axes>"
      ]
     },
     "metadata": {
      "needs_background": "light"
     },
     "output_type": "display_data"
    },
    {
     "name": "stdout",
     "output_type": "stream",
     "text": [
      "The Correlation Coefficient is: 0.6435798749670008.This is a sign that the budget has a positive, but weak correlation to     profit of the film. With a weak correlation, it makes sense to try keeping the budget low as it is where the highest            concentration of the data is.\n"
     ]
    }
   ],
   "source": [
    "#scatter plot of budget vs net profit\n",
    "fig, ax1 = plt.subplots(figsize=(10,8))\n",
    "\n",
    "ax1.scatter(x=budgets['budget'], y=budgets['profit'], color='purple',alpha=0.4)\n",
    "\n",
    "ax1.set_title('Production Budget vs Net Profit',size=20,color='r')\n",
    "ax1.set_xlabel('Production Budget(in millions)',size=15)\n",
    "ax1.set_ylabel('Net Profit(in millions)', color='purple',size=15)\n",
    "\n",
    "## Correlation coefficient - line of regression\n",
    "budget_profit_corr = budgets['budget'].corr(budgets['profit'])\n",
    "# plt.show()\n",
    "plt.savefig('production_budget_vs_net_profit.jpeg',bbox_inches='tight')\n",
    "\n",
    "plt.show()\n",
    "\n",
    "print(\"The Correlation Coefficient is: {}.This is a sign that the budget has a positive, but\\\n",
    " weak correlation to     profit of the film. With a weak correlation, it makes sense to try\\\n",
    " keeping the budget low as it is where the highest \\\n",
    "           concentration of the data is.\".format(budget_profit_corr))"
   ]
  },
  {
   "cell_type": "code",
   "execution_count": 37,
   "metadata": {
    "scrolled": false
   },
   "outputs": [],
   "source": [
    "budgets['total gross(billions)'] = budgets['total_gross'] / 1000000000"
   ]
  },
  {
   "cell_type": "code",
   "execution_count": 38,
   "metadata": {
    "scrolled": false
   },
   "outputs": [
    {
     "data": {
      "text/plain": [
       "0.7399121495609373"
      ]
     },
     "execution_count": 38,
     "metadata": {},
     "output_type": "execute_result"
    }
   ],
   "source": [
    "budget_gross_corr = budgets['total gross(billions)'].corr(budgets['budget'])\n",
    "budget_gross_corr"
   ]
  },
  {
   "cell_type": "code",
   "execution_count": 39,
   "metadata": {
    "scrolled": false
   },
   "outputs": [
    {
     "name": "stdout",
     "output_type": "stream",
     "text": [
      "The Correlation Coefficient is: 0.7399121495609373.This is a sign that the budget has a positive, but weak-medium           correlation to gross revenue of the film. With a medium correlation, it makes sense to try keeping the budget low as it is  where the highest concentration of the data is. The risk with a higher budget does appear to be too high as it grows.\n"
     ]
    },
    {
     "data": {
      "image/png": "[encoded data removed]",
      "text/plain": [
       "<Figure size 720x576 with 1 Axes>"
      ]
     },
     "metadata": {
      "needs_background": "light"
     },
     "output_type": "display_data"
    }
   ],
   "source": [
    "# Making a regression line based on the correlation\n",
    "\n",
    "#plot\n",
    "fig, ax1 = plt.subplots(figsize=(10,8))\n",
    "\n",
    "ax1.scatter(x=budgets['budget'], y=budgets['total_gross(in millions)'], color='r',alpha=0.6)\n",
    "ax1.set_title('Production Budget vs Gross Revenue',size=20,color='purple')\n",
    "ax1.set_xlabel('Production Budget(in millions)',size=15)\n",
    "ax1.set_ylabel('Total Gross(millions)', color='r',size=15)\n",
    "\n",
    "\n",
    "# plt.show()\n",
    "plt.savefig('production_budget_vs_net_profit.jpeg',bbox_inches='tight')\n",
    "\n",
    "\n",
    "print(\"The Correlation Coefficient is: {}.This is a sign that the budget has a positive, but\\\n",
    " weak-medium           correlation to gross revenue of the film. With a medium correlation, it makes sense to try\\\n",
    " keeping the budget low as it is  where the highest concentration of the data is. The risk with a higher\\\n",
    " budget does appear to be too high as it grows.\".format(budget_gross_corr))"
   ]
  },
  {
   "cell_type": "code",
   "execution_count": 40,
   "metadata": {
    "scrolled": false
   },
   "outputs": [
    {
     "name": "stdout",
     "output_type": "stream",
     "text": [
      "C:\\Users\\alevi\\Documents\\Flatiron\\dsc-data-science-env-config\\Course_Folder\\Phase_1\\Phase_1_Project\\Phase-1-Project---Movie-Analysis\n"
     ]
    }
   ],
   "source": [
    "cd .."
   ]
  },
  {
   "cell_type": "markdown",
   "metadata": {},
   "source": [
    "## IMDB data analysis based on genre"
   ]
  },
  {
   "cell_type": "markdown",
   "metadata": {},
   "source": [
    "Querying the movie_basics and movie_ratings"
   ]
  },
  {
   "cell_type": "code",
   "execution_count": 41,
   "metadata": {
    "scrolled": false
   },
   "outputs": [],
   "source": [
    "import sqlite3 as sql\n",
    "\n",
    "conn = sql.connect('im.db')\n",
    "df = pd.read_sql('''SELECT * \n",
    "                FROM movie_basics\n",
    "                JOIN movie_ratings\n",
    "                USING(movie_id)\n",
    "                JOIN movie_akas\n",
    "                USING(movie_id)\n",
    "                ORDER BY numvotes DESC\n",
    "                ''', conn)"
   ]
  },
  {
   "cell_type": "code",
   "execution_count": 42,
   "metadata": {},
   "outputs": [
    {
     "data": {
      "text/html": [
       "<div>\n",
       "<style scoped>\n",
       "    .dataframe tbody tr th:only-of-type {\n",
       "        vertical-align: middle;\n",
       "    }\n",
       "\n",
       "    .dataframe tbody tr th {\n",
       "        vertical-align: top;\n",
       "    }\n",
       "\n",
       "    .dataframe thead th {\n",
       "        text-align: right;\n",
       "    }\n",
       "</style>\n",
       "<table border=\"1\" class=\"dataframe\">\n",
       "  <thead>\n",
       "    <tr style=\"text-align: right;\">\n",
       "      <th></th>\n",
       "      <th>movie_id</th>\n",
       "      <th>primary_title</th>\n",
       "      <th>original_title</th>\n",
       "      <th>start_year</th>\n",
       "      <th>runtime_minutes</th>\n",
       "      <th>genres</th>\n",
       "      <th>averagerating</th>\n",
       "      <th>numvotes</th>\n",
       "      <th>ordering</th>\n",
       "      <th>title</th>\n",
       "      <th>region</th>\n",
       "      <th>language</th>\n",
       "      <th>types</th>\n",
       "      <th>attributes</th>\n",
       "      <th>is_original_title</th>\n",
       "    </tr>\n",
       "  </thead>\n",
       "  <tbody>\n",
       "    <tr>\n",
       "      <th>0</th>\n",
       "      <td>tt1375666</td>\n",
       "      <td>Inception</td>\n",
       "      <td>Inception</td>\n",
       "      <td>2010</td>\n",
       "      <td>148.000</td>\n",
       "      <td>Action,Adventure,Sci-Fi</td>\n",
       "      <td>8.800</td>\n",
       "      <td>1841066</td>\n",
       "      <td>1</td>\n",
       "      <td>El origen</td>\n",
       "      <td>PE</td>\n",
       "      <td>None</td>\n",
       "      <td>imdbDisplay</td>\n",
       "      <td>None</td>\n",
       "      <td>0.000</td>\n",
       "    </tr>\n",
       "    <tr>\n",
       "      <th>1</th>\n",
       "      <td>tt1375666</td>\n",
       "      <td>Inception</td>\n",
       "      <td>Inception</td>\n",
       "      <td>2010</td>\n",
       "      <td>148.000</td>\n",
       "      <td>Action,Adventure,Sci-Fi</td>\n",
       "      <td>8.800</td>\n",
       "      <td>1841066</td>\n",
       "      <td>2</td>\n",
       "      <td>Dasatskisi</td>\n",
       "      <td>GE</td>\n",
       "      <td>None</td>\n",
       "      <td>imdbDisplay</td>\n",
       "      <td>None</td>\n",
       "      <td>0.000</td>\n",
       "    </tr>\n",
       "    <tr>\n",
       "      <th>2</th>\n",
       "      <td>tt1375666</td>\n",
       "      <td>Inception</td>\n",
       "      <td>Inception</td>\n",
       "      <td>2010</td>\n",
       "      <td>148.000</td>\n",
       "      <td>Action,Adventure,Sci-Fi</td>\n",
       "      <td>8.800</td>\n",
       "      <td>1841066</td>\n",
       "      <td>3</td>\n",
       "      <td>Talghin</td>\n",
       "      <td>IR</td>\n",
       "      <td>fa</td>\n",
       "      <td>imdbDisplay</td>\n",
       "      <td>None</td>\n",
       "      <td>0.000</td>\n",
       "    </tr>\n",
       "    <tr>\n",
       "      <th>3</th>\n",
       "      <td>tt1375666</td>\n",
       "      <td>Inception</td>\n",
       "      <td>Inception</td>\n",
       "      <td>2010</td>\n",
       "      <td>148.000</td>\n",
       "      <td>Action,Adventure,Sci-Fi</td>\n",
       "      <td>8.800</td>\n",
       "      <td>1841066</td>\n",
       "      <td>4</td>\n",
       "      <td>Inception</td>\n",
       "      <td>GB</td>\n",
       "      <td>None</td>\n",
       "      <td>imdbDisplay</td>\n",
       "      <td>None</td>\n",
       "      <td>0.000</td>\n",
       "    </tr>\n",
       "    <tr>\n",
       "      <th>4</th>\n",
       "      <td>tt1375666</td>\n",
       "      <td>Inception</td>\n",
       "      <td>Inception</td>\n",
       "      <td>2010</td>\n",
       "      <td>148.000</td>\n",
       "      <td>Action,Adventure,Sci-Fi</td>\n",
       "      <td>8.800</td>\n",
       "      <td>1841066</td>\n",
       "      <td>5</td>\n",
       "      <td>El origen</td>\n",
       "      <td>AR</td>\n",
       "      <td>None</td>\n",
       "      <td>None</td>\n",
       "      <td>None</td>\n",
       "      <td>0.000</td>\n",
       "    </tr>\n",
       "    <tr>\n",
       "      <th>...</th>\n",
       "      <td>...</td>\n",
       "      <td>...</td>\n",
       "      <td>...</td>\n",
       "      <td>...</td>\n",
       "      <td>...</td>\n",
       "      <td>...</td>\n",
       "      <td>...</td>\n",
       "      <td>...</td>\n",
       "      <td>...</td>\n",
       "      <td>...</td>\n",
       "      <td>...</td>\n",
       "      <td>...</td>\n",
       "      <td>...</td>\n",
       "      <td>...</td>\n",
       "      <td>...</td>\n",
       "    </tr>\n",
       "    <tr>\n",
       "      <th>261801</th>\n",
       "      <td>tt9899880</td>\n",
       "      <td>Columbus</td>\n",
       "      <td>Columbus</td>\n",
       "      <td>2018</td>\n",
       "      <td>85.000</td>\n",
       "      <td>Comedy</td>\n",
       "      <td>5.800</td>\n",
       "      <td>5</td>\n",
       "      <td>1</td>\n",
       "      <td>Columbus</td>\n",
       "      <td>None</td>\n",
       "      <td>None</td>\n",
       "      <td>original</td>\n",
       "      <td>None</td>\n",
       "      <td>1.000</td>\n",
       "    </tr>\n",
       "    <tr>\n",
       "      <th>261802</th>\n",
       "      <td>tt9899880</td>\n",
       "      <td>Columbus</td>\n",
       "      <td>Columbus</td>\n",
       "      <td>2018</td>\n",
       "      <td>85.000</td>\n",
       "      <td>Comedy</td>\n",
       "      <td>5.800</td>\n",
       "      <td>5</td>\n",
       "      <td>2</td>\n",
       "      <td>Colombos</td>\n",
       "      <td>IR</td>\n",
       "      <td>fa</td>\n",
       "      <td>imdbDisplay</td>\n",
       "      <td>None</td>\n",
       "      <td>0.000</td>\n",
       "    </tr>\n",
       "    <tr>\n",
       "      <th>261803</th>\n",
       "      <td>tt9903952</td>\n",
       "      <td>BADMEN with a good behavior</td>\n",
       "      <td>BADMEN with a good behavior</td>\n",
       "      <td>2018</td>\n",
       "      <td>87.000</td>\n",
       "      <td>Comedy,Horror</td>\n",
       "      <td>9.200</td>\n",
       "      <td>5</td>\n",
       "      <td>1</td>\n",
       "      <td>BADMEN with a good behavior</td>\n",
       "      <td>DE</td>\n",
       "      <td>None</td>\n",
       "      <td>None</td>\n",
       "      <td>None</td>\n",
       "      <td>0.000</td>\n",
       "    </tr>\n",
       "    <tr>\n",
       "      <th>261804</th>\n",
       "      <td>tt9903952</td>\n",
       "      <td>BADMEN with a good behavior</td>\n",
       "      <td>BADMEN with a good behavior</td>\n",
       "      <td>2018</td>\n",
       "      <td>87.000</td>\n",
       "      <td>Comedy,Horror</td>\n",
       "      <td>9.200</td>\n",
       "      <td>5</td>\n",
       "      <td>2</td>\n",
       "      <td>Benimm dich, oder sie vertrimm'n dich!</td>\n",
       "      <td>DE</td>\n",
       "      <td>None</td>\n",
       "      <td>alternative</td>\n",
       "      <td>None</td>\n",
       "      <td>0.000</td>\n",
       "    </tr>\n",
       "    <tr>\n",
       "      <th>261805</th>\n",
       "      <td>tt9903952</td>\n",
       "      <td>BADMEN with a good behavior</td>\n",
       "      <td>BADMEN with a good behavior</td>\n",
       "      <td>2018</td>\n",
       "      <td>87.000</td>\n",
       "      <td>Comedy,Horror</td>\n",
       "      <td>9.200</td>\n",
       "      <td>5</td>\n",
       "      <td>3</td>\n",
       "      <td>BADMEN with a good behavior</td>\n",
       "      <td>None</td>\n",
       "      <td>None</td>\n",
       "      <td>original</td>\n",
       "      <td>None</td>\n",
       "      <td>1.000</td>\n",
       "    </tr>\n",
       "  </tbody>\n",
       "</table>\n",
       "<p>261806 rows × 15 columns</p>\n",
       "</div>"
      ],
      "text/plain": [
       "         movie_id                primary_title               original_title  \\\n",
       "0       tt1375666                    Inception                    Inception   \n",
       "1       tt1375666                    Inception                    Inception   \n",
       "2       tt1375666                    Inception                    Inception   \n",
       "3       tt1375666                    Inception                    Inception   \n",
       "4       tt1375666                    Inception                    Inception   \n",
       "...           ...                          ...                          ...   \n",
       "261801  tt9899880                     Columbus                     Columbus   \n",
       "261802  tt9899880                     Columbus                     Columbus   \n",
       "261803  tt9903952  BADMEN with a good behavior  BADMEN with a good behavior   \n",
       "261804  tt9903952  BADMEN with a good behavior  BADMEN with a good behavior   \n",
       "261805  tt9903952  BADMEN with a good behavior  BADMEN with a good behavior   \n",
       "\n",
       "        start_year  runtime_minutes                   genres  averagerating  \\\n",
       "0             2010          148.000  Action,Adventure,Sci-Fi          8.800   \n",
       "1             2010          148.000  Action,Adventure,Sci-Fi          8.800   \n",
       "2             2010          148.000  Action,Adventure,Sci-Fi          8.800   \n",
       "3             2010          148.000  Action,Adventure,Sci-Fi          8.800   \n",
       "4             2010          148.000  Action,Adventure,Sci-Fi          8.800   \n",
       "...            ...              ...                      ...            ...   \n",
       "261801        2018           85.000                   Comedy          5.800   \n",
       "261802        2018           85.000                   Comedy          5.800   \n",
       "261803        2018           87.000            Comedy,Horror          9.200   \n",
       "261804        2018           87.000            Comedy,Horror          9.200   \n",
       "261805        2018           87.000            Comedy,Horror          9.200   \n",
       "\n",
       "        numvotes  ordering                                   title region  \\\n",
       "0        1841066         1                               El origen     PE   \n",
       "1        1841066         2                              Dasatskisi     GE   \n",
       "2        1841066         3                                 Talghin     IR   \n",
       "3        1841066         4                               Inception     GB   \n",
       "4        1841066         5                               El origen     AR   \n",
       "...          ...       ...                                     ...    ...   \n",
       "261801         5         1                                Columbus   None   \n",
       "261802         5         2                                Colombos     IR   \n",
       "261803         5         1             BADMEN with a good behavior     DE   \n",
       "261804         5         2  Benimm dich, oder sie vertrimm'n dich!     DE   \n",
       "261805         5         3             BADMEN with a good behavior   None   \n",
       "\n",
       "       language        types attributes  is_original_title  \n",
       "0          None  imdbDisplay       None              0.000  \n",
       "1          None  imdbDisplay       None              0.000  \n",
       "2            fa  imdbDisplay       None              0.000  \n",
       "3          None  imdbDisplay       None              0.000  \n",
       "4          None         None       None              0.000  \n",
       "...         ...          ...        ...                ...  \n",
       "261801     None     original       None              1.000  \n",
       "261802       fa  imdbDisplay       None              0.000  \n",
       "261803     None         None       None              0.000  \n",
       "261804     None  alternative       None              0.000  \n",
       "261805     None     original       None              1.000  \n",
       "\n",
       "[261806 rows x 15 columns]"
      ]
     },
     "execution_count": 42,
     "metadata": {},
     "output_type": "execute_result"
    }
   ],
   "source": [
    "df"
   ]
  },
  {
   "cell_type": "markdown",
   "metadata": {},
   "source": [
    "## Merge with budgets dataframe"
   ]
  },
  {
   "cell_type": "code",
   "execution_count": 43,
   "metadata": {
    "scrolled": false
   },
   "outputs": [
    {
     "data": {
      "text/plain": [
       "43969"
      ]
     },
     "execution_count": 43,
     "metadata": {},
     "output_type": "execute_result"
    }
   ],
   "source": [
    "imdb_budgets = pd.merge(df,budgets,left_on='original_title',right_on='movie',how='inner')\n",
    "len(imdb_budgets)"
   ]
  },
  {
   "cell_type": "markdown",
   "metadata": {},
   "source": [
    "## Checking Profit by Genre"
   ]
  },
  {
   "cell_type": "code",
   "execution_count": 44,
   "metadata": {
    "scrolled": false
   },
   "outputs": [
    {
     "data": {
      "text/html": [
       "<div>\n",
       "<style scoped>\n",
       "    .dataframe tbody tr th:only-of-type {\n",
       "        vertical-align: middle;\n",
       "    }\n",
       "\n",
       "    .dataframe tbody tr th {\n",
       "        vertical-align: top;\n",
       "    }\n",
       "\n",
       "    .dataframe thead th {\n",
       "        text-align: right;\n",
       "    }\n",
       "</style>\n",
       "<table border=\"1\" class=\"dataframe\">\n",
       "  <thead>\n",
       "    <tr style=\"text-align: right;\">\n",
       "      <th></th>\n",
       "      <th>movie_id</th>\n",
       "      <th>primary_title</th>\n",
       "      <th>original_title</th>\n",
       "      <th>start_year</th>\n",
       "      <th>runtime_minutes</th>\n",
       "      <th>genres</th>\n",
       "      <th>averagerating</th>\n",
       "      <th>numvotes</th>\n",
       "      <th>ordering</th>\n",
       "      <th>title</th>\n",
       "      <th>...</th>\n",
       "      <th>worldwide_gross</th>\n",
       "      <th>total_gross</th>\n",
       "      <th>profit(in millions)</th>\n",
       "      <th>month</th>\n",
       "      <th>year</th>\n",
       "      <th>budget</th>\n",
       "      <th>profit</th>\n",
       "      <th>total_gross(in millions)</th>\n",
       "      <th>% of budget</th>\n",
       "      <th>total gross(billions)</th>\n",
       "    </tr>\n",
       "  </thead>\n",
       "  <tbody>\n",
       "    <tr>\n",
       "      <th>0</th>\n",
       "      <td>tt1375666</td>\n",
       "      <td>Inception</td>\n",
       "      <td>Inception</td>\n",
       "      <td>2010</td>\n",
       "      <td>148.000</td>\n",
       "      <td>Action</td>\n",
       "      <td>8.800</td>\n",
       "      <td>1841066</td>\n",
       "      <td>1</td>\n",
       "      <td>El origen</td>\n",
       "      <td>...</td>\n",
       "      <td>835524642.000</td>\n",
       "      <td>1128100837.000</td>\n",
       "      <td>968.101</td>\n",
       "      <td>July</td>\n",
       "      <td>2010</td>\n",
       "      <td>160.000</td>\n",
       "      <td>968.101</td>\n",
       "      <td>1128.101</td>\n",
       "      <td>605.063</td>\n",
       "      <td>1.128</td>\n",
       "    </tr>\n",
       "    <tr>\n",
       "      <th>0</th>\n",
       "      <td>tt1375666</td>\n",
       "      <td>Inception</td>\n",
       "      <td>Inception</td>\n",
       "      <td>2010</td>\n",
       "      <td>148.000</td>\n",
       "      <td>Adventure</td>\n",
       "      <td>8.800</td>\n",
       "      <td>1841066</td>\n",
       "      <td>1</td>\n",
       "      <td>El origen</td>\n",
       "      <td>...</td>\n",
       "      <td>835524642.000</td>\n",
       "      <td>1128100837.000</td>\n",
       "      <td>968.101</td>\n",
       "      <td>July</td>\n",
       "      <td>2010</td>\n",
       "      <td>160.000</td>\n",
       "      <td>968.101</td>\n",
       "      <td>1128.101</td>\n",
       "      <td>605.063</td>\n",
       "      <td>1.128</td>\n",
       "    </tr>\n",
       "    <tr>\n",
       "      <th>0</th>\n",
       "      <td>tt1375666</td>\n",
       "      <td>Inception</td>\n",
       "      <td>Inception</td>\n",
       "      <td>2010</td>\n",
       "      <td>148.000</td>\n",
       "      <td>Sci-Fi</td>\n",
       "      <td>8.800</td>\n",
       "      <td>1841066</td>\n",
       "      <td>1</td>\n",
       "      <td>El origen</td>\n",
       "      <td>...</td>\n",
       "      <td>835524642.000</td>\n",
       "      <td>1128100837.000</td>\n",
       "      <td>968.101</td>\n",
       "      <td>July</td>\n",
       "      <td>2010</td>\n",
       "      <td>160.000</td>\n",
       "      <td>968.101</td>\n",
       "      <td>1128.101</td>\n",
       "      <td>605.063</td>\n",
       "      <td>1.128</td>\n",
       "    </tr>\n",
       "    <tr>\n",
       "      <th>1</th>\n",
       "      <td>tt1375666</td>\n",
       "      <td>Inception</td>\n",
       "      <td>Inception</td>\n",
       "      <td>2010</td>\n",
       "      <td>148.000</td>\n",
       "      <td>Action</td>\n",
       "      <td>8.800</td>\n",
       "      <td>1841066</td>\n",
       "      <td>2</td>\n",
       "      <td>Dasatskisi</td>\n",
       "      <td>...</td>\n",
       "      <td>835524642.000</td>\n",
       "      <td>1128100837.000</td>\n",
       "      <td>968.101</td>\n",
       "      <td>July</td>\n",
       "      <td>2010</td>\n",
       "      <td>160.000</td>\n",
       "      <td>968.101</td>\n",
       "      <td>1128.101</td>\n",
       "      <td>605.063</td>\n",
       "      <td>1.128</td>\n",
       "    </tr>\n",
       "    <tr>\n",
       "      <th>1</th>\n",
       "      <td>tt1375666</td>\n",
       "      <td>Inception</td>\n",
       "      <td>Inception</td>\n",
       "      <td>2010</td>\n",
       "      <td>148.000</td>\n",
       "      <td>Adventure</td>\n",
       "      <td>8.800</td>\n",
       "      <td>1841066</td>\n",
       "      <td>2</td>\n",
       "      <td>Dasatskisi</td>\n",
       "      <td>...</td>\n",
       "      <td>835524642.000</td>\n",
       "      <td>1128100837.000</td>\n",
       "      <td>968.101</td>\n",
       "      <td>July</td>\n",
       "      <td>2010</td>\n",
       "      <td>160.000</td>\n",
       "      <td>968.101</td>\n",
       "      <td>1128.101</td>\n",
       "      <td>605.063</td>\n",
       "      <td>1.128</td>\n",
       "    </tr>\n",
       "    <tr>\n",
       "      <th>...</th>\n",
       "      <td>...</td>\n",
       "      <td>...</td>\n",
       "      <td>...</td>\n",
       "      <td>...</td>\n",
       "      <td>...</td>\n",
       "      <td>...</td>\n",
       "      <td>...</td>\n",
       "      <td>...</td>\n",
       "      <td>...</td>\n",
       "      <td>...</td>\n",
       "      <td>...</td>\n",
       "      <td>...</td>\n",
       "      <td>...</td>\n",
       "      <td>...</td>\n",
       "      <td>...</td>\n",
       "      <td>...</td>\n",
       "      <td>...</td>\n",
       "      <td>...</td>\n",
       "      <td>...</td>\n",
       "      <td>...</td>\n",
       "      <td>...</td>\n",
       "    </tr>\n",
       "    <tr>\n",
       "      <th>43964</th>\n",
       "      <td>tt3105014</td>\n",
       "      <td>Hybrid</td>\n",
       "      <td>Hybrid</td>\n",
       "      <td>2013</td>\n",
       "      <td>104.000</td>\n",
       "      <td>Sport</td>\n",
       "      <td>7.200</td>\n",
       "      <td>5</td>\n",
       "      <td>3</td>\n",
       "      <td>Hybrid</td>\n",
       "      <td>...</td>\n",
       "      <td>162605.000</td>\n",
       "      <td>325210.000</td>\n",
       "      <td>0.125</td>\n",
       "      <td>May</td>\n",
       "      <td>2002</td>\n",
       "      <td>0.200</td>\n",
       "      <td>0.125</td>\n",
       "      <td>0.325</td>\n",
       "      <td>62.605</td>\n",
       "      <td>0.000</td>\n",
       "    </tr>\n",
       "    <tr>\n",
       "      <th>43965</th>\n",
       "      <td>tt3570720</td>\n",
       "      <td>Heaven's Gate</td>\n",
       "      <td>Heaven's Gate</td>\n",
       "      <td>2013</td>\n",
       "      <td>47.000</td>\n",
       "      <td>Documentary</td>\n",
       "      <td>6.800</td>\n",
       "      <td>5</td>\n",
       "      <td>1</td>\n",
       "      <td>Wingsuit Daredevil</td>\n",
       "      <td>...</td>\n",
       "      <td>3484523.000</td>\n",
       "      <td>6968854.000</td>\n",
       "      <td>-37.031</td>\n",
       "      <td>November</td>\n",
       "      <td>1980</td>\n",
       "      <td>44.000</td>\n",
       "      <td>-37.031</td>\n",
       "      <td>6.969</td>\n",
       "      <td>-84.162</td>\n",
       "      <td>0.007</td>\n",
       "    </tr>\n",
       "    <tr>\n",
       "      <th>43966</th>\n",
       "      <td>tt3570720</td>\n",
       "      <td>Heaven's Gate</td>\n",
       "      <td>Heaven's Gate</td>\n",
       "      <td>2013</td>\n",
       "      <td>47.000</td>\n",
       "      <td>Documentary</td>\n",
       "      <td>6.800</td>\n",
       "      <td>5</td>\n",
       "      <td>2</td>\n",
       "      <td>Heaven's Gate</td>\n",
       "      <td>...</td>\n",
       "      <td>3484523.000</td>\n",
       "      <td>6968854.000</td>\n",
       "      <td>-37.031</td>\n",
       "      <td>November</td>\n",
       "      <td>1980</td>\n",
       "      <td>44.000</td>\n",
       "      <td>-37.031</td>\n",
       "      <td>6.969</td>\n",
       "      <td>-84.162</td>\n",
       "      <td>0.007</td>\n",
       "    </tr>\n",
       "    <tr>\n",
       "      <th>43967</th>\n",
       "      <td>tt3570720</td>\n",
       "      <td>Heaven's Gate</td>\n",
       "      <td>Heaven's Gate</td>\n",
       "      <td>2013</td>\n",
       "      <td>47.000</td>\n",
       "      <td>Documentary</td>\n",
       "      <td>6.800</td>\n",
       "      <td>5</td>\n",
       "      <td>3</td>\n",
       "      <td>Heaven's Gate</td>\n",
       "      <td>...</td>\n",
       "      <td>3484523.000</td>\n",
       "      <td>6968854.000</td>\n",
       "      <td>-37.031</td>\n",
       "      <td>November</td>\n",
       "      <td>1980</td>\n",
       "      <td>44.000</td>\n",
       "      <td>-37.031</td>\n",
       "      <td>6.969</td>\n",
       "      <td>-84.162</td>\n",
       "      <td>0.007</td>\n",
       "    </tr>\n",
       "    <tr>\n",
       "      <th>43968</th>\n",
       "      <td>tt6971106</td>\n",
       "      <td>The Black Hole</td>\n",
       "      <td>The Black Hole</td>\n",
       "      <td>2017</td>\n",
       "      <td>nan</td>\n",
       "      <td>Comedy</td>\n",
       "      <td>4.200</td>\n",
       "      <td>5</td>\n",
       "      <td>1</td>\n",
       "      <td>The Black Hole</td>\n",
       "      <td>...</td>\n",
       "      <td>35841901.000</td>\n",
       "      <td>71683802.000</td>\n",
       "      <td>51.684</td>\n",
       "      <td>December</td>\n",
       "      <td>1979</td>\n",
       "      <td>20.000</td>\n",
       "      <td>51.684</td>\n",
       "      <td>71.684</td>\n",
       "      <td>258.419</td>\n",
       "      <td>0.072</td>\n",
       "    </tr>\n",
       "  </tbody>\n",
       "</table>\n",
       "<p>115302 rows × 30 columns</p>\n",
       "</div>"
      ],
      "text/plain": [
       "        movie_id   primary_title  original_title  start_year  runtime_minutes  \\\n",
       "0      tt1375666       Inception       Inception        2010          148.000   \n",
       "0      tt1375666       Inception       Inception        2010          148.000   \n",
       "0      tt1375666       Inception       Inception        2010          148.000   \n",
       "1      tt1375666       Inception       Inception        2010          148.000   \n",
       "1      tt1375666       Inception       Inception        2010          148.000   \n",
       "...          ...             ...             ...         ...              ...   \n",
       "43964  tt3105014          Hybrid          Hybrid        2013          104.000   \n",
       "43965  tt3570720   Heaven's Gate   Heaven's Gate        2013           47.000   \n",
       "43966  tt3570720   Heaven's Gate   Heaven's Gate        2013           47.000   \n",
       "43967  tt3570720   Heaven's Gate   Heaven's Gate        2013           47.000   \n",
       "43968  tt6971106  The Black Hole  The Black Hole        2017              nan   \n",
       "\n",
       "            genres  averagerating  numvotes  ordering               title  \\\n",
       "0           Action          8.800   1841066         1           El origen   \n",
       "0        Adventure          8.800   1841066         1           El origen   \n",
       "0           Sci-Fi          8.800   1841066         1           El origen   \n",
       "1           Action          8.800   1841066         2          Dasatskisi   \n",
       "1        Adventure          8.800   1841066         2          Dasatskisi   \n",
       "...            ...            ...       ...       ...                 ...   \n",
       "43964        Sport          7.200         5         3              Hybrid   \n",
       "43965  Documentary          6.800         5         1  Wingsuit Daredevil   \n",
       "43966  Documentary          6.800         5         2       Heaven's Gate   \n",
       "43967  Documentary          6.800         5         3       Heaven's Gate   \n",
       "43968       Comedy          4.200         5         1      The Black Hole   \n",
       "\n",
       "       ... worldwide_gross    total_gross profit(in millions)     month  year  \\\n",
       "0      ...   835524642.000 1128100837.000             968.101      July  2010   \n",
       "0      ...   835524642.000 1128100837.000             968.101      July  2010   \n",
       "0      ...   835524642.000 1128100837.000             968.101      July  2010   \n",
       "1      ...   835524642.000 1128100837.000             968.101      July  2010   \n",
       "1      ...   835524642.000 1128100837.000             968.101      July  2010   \n",
       "...    ...             ...            ...                 ...       ...   ...   \n",
       "43964  ...      162605.000     325210.000               0.125       May  2002   \n",
       "43965  ...     3484523.000    6968854.000             -37.031  November  1980   \n",
       "43966  ...     3484523.000    6968854.000             -37.031  November  1980   \n",
       "43967  ...     3484523.000    6968854.000             -37.031  November  1980   \n",
       "43968  ...    35841901.000   71683802.000              51.684  December  1979   \n",
       "\n",
       "       budget  profit total_gross(in millions)  % of budget  \\\n",
       "0     160.000 968.101                 1128.101      605.063   \n",
       "0     160.000 968.101                 1128.101      605.063   \n",
       "0     160.000 968.101                 1128.101      605.063   \n",
       "1     160.000 968.101                 1128.101      605.063   \n",
       "1     160.000 968.101                 1128.101      605.063   \n",
       "...       ...     ...                      ...          ...   \n",
       "43964   0.200   0.125                    0.325       62.605   \n",
       "43965  44.000 -37.031                    6.969      -84.162   \n",
       "43966  44.000 -37.031                    6.969      -84.162   \n",
       "43967  44.000 -37.031                    6.969      -84.162   \n",
       "43968  20.000  51.684                   71.684      258.419   \n",
       "\n",
       "       total gross(billions)  \n",
       "0                      1.128  \n",
       "0                      1.128  \n",
       "0                      1.128  \n",
       "1                      1.128  \n",
       "1                      1.128  \n",
       "...                      ...  \n",
       "43964                  0.000  \n",
       "43965                  0.007  \n",
       "43966                  0.007  \n",
       "43967                  0.007  \n",
       "43968                  0.072  \n",
       "\n",
       "[115302 rows x 30 columns]"
      ]
     },
     "execution_count": 44,
     "metadata": {},
     "output_type": "execute_result"
    }
   ],
   "source": [
    "imdb_budgets['genres'] = imdb_budgets['genres'].str.split(',')\n",
    "imdb_budgets_genres = imdb_budgets.explode('genres')\n",
    "imdb_budgets_genres"
   ]
  },
  {
   "cell_type": "code",
   "execution_count": 45,
   "metadata": {
    "scrolled": false
   },
   "outputs": [
    {
     "name": "stdout",
     "output_type": "stream",
     "text": [
      "Earlier in the analysis, it was shown that the box office revenue was heavily favored towards science fiction and fantasy as well as action and adventure.However, when looking at the data for profit the spread is slightly different. Musicals appear to be the most profitable genres along with Scifi and animation performing at a high rate. While not as strong as at the box office, action, fantasy, family and adventure also appear to be very profitable genres as well.\n"
     ]
    },
    {
     "data": {
      "image/png": "[encoded data removed]",
      "text/plain": [
       "<Figure size 864x576 with 1 Axes>"
      ]
     },
     "metadata": {
      "needs_background": "light"
     },
     "output_type": "display_data"
    }
   ],
   "source": [
    "imdb_budgets_genres_by_profit = imdb_budgets_genres.groupby('genres')['profit'].mean().reset_index()\n",
    "imdb_budgets_genres_by_profit = imdb_budgets_genres_by_profit.sort_values('profit')\n",
    "\n",
    "imdb_budgets_genres_by_profit.plot(x='genres',y='profit',kind='barh',figsize=(12,8))\n",
    "plt.xlabel('Profit(millions)',size=20,**csfont)\n",
    "plt.ylabel('Genres',size=20,**csfont)\n",
    "plt.title('Profit by Genre',size=20,**csfont)\n",
    "plt.savefig('Profit_by_Genre.jpeg')\n",
    "\n",
    "\n",
    "\n",
    "print('Earlier in the analysis, it was shown that the box office revenue was heavily favored towards science fiction and fantasy as well as action and adventure.\\\n",
    "However, when looking at the data for profit the spread is slightly different. Musicals appear to be the most profitable genres along with Scifi and animation\\\n",
    " performing at a high rate. While not as strong as at the box office, action, fantasy, family and adventure also appear to be very profitable genres as well.')"
   ]
  },
  {
   "cell_type": "markdown",
   "metadata": {},
   "source": [
    "## Advice for Microsoft"
   ]
  },
  {
   "cell_type": "markdown",
   "metadata": {},
   "source": [
    "1) Keep the budget low!\n",
    "For the budget, all the data points to a more reliable profit and return on investment. The correlation for budget vs profit\n",
    "appears to be on the weaker side, so a larger budget doesn't necessarily mean a direct return on invesment. \n",
    "\n",
    "2) Best Genres for revenue: Action and Adventure, Science Fiction and Fantasy\n",
    "   Best Genres for profit: Musicals, SciFi, Animation, Adventure\n",
    "   examples - Avatar, Avengers, \n",
    "   \n",
    "3) Summer time!\n",
    "With consideration of the summer months being the most profitable, and June showing to be the highest month for return on investment, it makes sense to try and maxmimize movies released during that time. "
   ]
  },
  {
   "cell_type": "markdown",
   "metadata": {},
   "source": [
    "## Conclusion"
   ]
  },
  {
   "cell_type": "markdown",
   "metadata": {},
   "source": [
    "## Big Takeaways\n",
    "- Time of year is clear on the best times for movies\n",
    "- Applying to the masses matters according to movie rating.\n",
    "- Sci-Fi, Animated and Kids movies:\n",
    "- Genres are generally in these rating brackets, meaning they apply to the masses, which leads higher revenue.\n",
    "\n",
    "\n",
    "## Limitations\n",
    "- Movie Rating and popularity:\n",
    "- No clear outcome from study.\n",
    "- Only three sources were used for study:\n",
    "- More resources used could lead to more   reliable recommendations.\n"
   ]
  },
  {
   "cell_type": "markdown",
   "metadata": {},
   "source": [
    "## Future Work"
   ]
  },
  {
   "cell_type": "markdown",
   "metadata": {},
   "source": [
    "## Next Steps\n",
    "Observe more parameters to look deeper into features that make for successful movie production. \n",
    "\n",
    "Possible Parameters:\n",
    "- Demographic of viewer\n",
    "- Region or Country\n",
    "- Runtime\n",
    "- Directors\n",
    "- Actors\n",
    "\n"
   ]
  }
 ],
 "metadata": {
  "kernelspec": {
   "display_name": "Python 3",
   "language": "python",
   "name": "python3"
  },
  "language_info": {
   "codemirror_mode": {
    "name": "ipython",
    "version": 3
   },
   "file_extension": ".py",
   "mimetype": "text/x-python",
   "name": "python",
   "nbconvert_exporter": "python",
   "pygments_lexer": "ipython3",
   "version": "3.8.5"
  }
 },
 "nbformat": 4,
 "nbformat_minor": 2
}
